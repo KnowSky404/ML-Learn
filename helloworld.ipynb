{
 "cells": [
  {
   "cell_type": "markdown",
   "metadata": {},
   "source": [
    "# Hello World\n",
    "\n",
    "1. Hello\n",
    "2. World\n",
    "3. !"
   ]
  },
  {
   "cell_type": "code",
   "execution_count": 3,
   "metadata": {},
   "outputs": [
    {
     "name": "stdout",
     "output_type": "stream",
     "text": [
      "Hello World\n"
     ]
    }
   ],
   "source": [
    "# Hello World\n",
    "print(\"Hello World\")\n"
   ]
  },
  {
   "cell_type": "code",
   "execution_count": 1,
   "metadata": {},
   "outputs": [
    {
     "data": {
      "text/plain": [
       "6"
      ]
     },
     "execution_count": 1,
     "metadata": {},
     "output_type": "execute_result"
    }
   ],
   "source": [
    "1+5"
   ]
  },
  {
   "cell_type": "code",
   "execution_count": 2,
   "metadata": {},
   "outputs": [
    {
     "data": {
      "text/plain": [
       "7"
      ]
     },
     "execution_count": 2,
     "metadata": {},
     "output_type": "execute_result"
    }
   ],
   "source": [
    "1+6"
   ]
  },
  {
   "cell_type": "markdown",
   "metadata": {},
   "source": [
    "## Maybe We Can Make A Deal!"
   ]
  },
  {
   "cell_type": "markdown",
   "metadata": {},
   "source": [
    "Test!"
   ]
  },
  {
   "cell_type": "markdown",
   "metadata": {},
   "source": [
    "## NoteBook Shortcuts\n",
    "\n",
    "1. `A` to insert a cell above\n",
    "2. `B` to insert a cell below\n",
    "3. `D` + `D` to delete a cell\n",
    "4. `M` to change a cell to markdown\n",
    "5. `Y` to change a cell to code\n",
    "6. `Ctrl` + `Enter` to run a cell\n",
    "7. `Shift` + `Enter` to run a cell and move to the next one\n",
    "8. `Z` to undo\n",
    "9. `ESC` to exit (like vim to visual mode)\n",
    "10. `Enter` to edit a cell(like vim i/o/a edit mode)\n",
    "11. visual mode also support `HJKL` for movement like vim\n",
    "12. `X` to cut a cell\n",
    "13. `C` to copy a cell\n",
    "14. `V` to paste a cell\n"
   ]
  }
 ],
 "metadata": {
  "kernelspec": {
   "display_name": ".venv",
   "language": "python",
   "name": "python3"
  },
  "language_info": {
   "codemirror_mode": {
    "name": "ipython",
    "version": 3
   },
   "file_extension": ".py",
   "mimetype": "text/x-python",
   "name": "python",
   "nbconvert_exporter": "python",
   "pygments_lexer": "ipython3",
   "version": "3.13.2"
  }
 },
 "nbformat": 4,
 "nbformat_minor": 2
}
